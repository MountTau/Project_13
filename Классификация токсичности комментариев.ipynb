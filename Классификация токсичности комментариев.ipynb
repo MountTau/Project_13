{
 "cells": [
  {
   "cell_type": "markdown",
   "id": "5c445123",
   "metadata": {},
   "source": [
    "# Проект с BERT"
   ]
  },
  {
   "cell_type": "markdown",
   "id": "bb9a4118",
   "metadata": {},
   "source": [
    "Интернет-магазин «Викишоп» запускает новый сервис. Теперь пользователи могут редактировать и дополнять описания товаров, как в вики-сообществах. То есть клиенты предлагают свои правки и комментируют изменения других. Магазину нужен инструмент, который будет искать токсичные комментарии и отправлять их на модерацию.\n",
    "\n",
    "Наша задача - обучить модель, которая будет классифицировать комментарии на позитивные и негативные. В вашем распоряжении набор из 159292 англоязычных комментариев с разметкой о токсичности правок (столбец text содержит текст комментария, а toxic — целевой признак). Значение метрики качества F1 должно быть не меньше 0.75.\n",
    "\n",
    "Обучение будем проводить на предобученной модели BERT 'bert-base-uncased'.\n"
   ]
  },
  {
   "cell_type": "code",
   "execution_count": 1,
   "id": "2bc85730",
   "metadata": {},
   "outputs": [],
   "source": [
    "import matplotlib.pyplot as plt\n",
    "import numpy as np\n",
    "import pandas as pd\n",
    "import random\n",
    "import torch\n",
    "import transformers\n",
    "from tqdm import notebook\n",
    "from torch.utils.data import TensorDataset, DataLoader, RandomSampler, SequentialSampler\n",
    "from sklearn.model_selection import train_test_split\n",
    "from sklearn.metrics import f1_score, accuracy_score\n",
    "from sklearn.metrics import confusion_matrix\n",
    "from sklearn.metrics import ConfusionMatrixDisplay\n",
    "from transformers import AdamW, BertTokenizer, BertForSequenceClassification\n",
    "from IPython.display import clear_output\n",
    "from tqdm import tqdm, trange\n",
    "import io\n",
    "%matplotlib inline"
   ]
  },
  {
   "cell_type": "code",
   "execution_count": 2,
   "id": "ddd6f3b4",
   "metadata": {},
   "outputs": [
    {
     "name": "stdout",
     "output_type": "stream",
     "text": [
      "Using NVIDIA GeForce GTX 960 GPUs\n"
     ]
    }
   ],
   "source": [
    "# Подключим GPU\n",
    "device = torch.device('cuda' if torch.cuda.is_available() else 'cpu')\n",
    "\n",
    "if device == torch.device('cpu'):\n",
    "    print('Using cpu')\n",
    "else:\n",
    "    n_gpu = torch.cuda.device_count()\n",
    "    print('Using {} GPUs'.format(torch.cuda.get_device_name()))"
   ]
  },
  {
   "cell_type": "code",
   "execution_count": 3,
   "id": "eda44f31",
   "metadata": {},
   "outputs": [],
   "source": [
    "# Чтение файла\n",
    "toxic_comments = pd.read_csv(r'C:\\Users\\taush\\Downloads\\toxic_comments.csv')"
   ]
  },
  {
   "cell_type": "code",
   "execution_count": 4,
   "id": "ad6f35b9",
   "metadata": {
    "scrolled": true
   },
   "outputs": [
    {
     "data": {
      "text/html": [
       "<div>\n",
       "<style scoped>\n",
       "    .dataframe tbody tr th:only-of-type {\n",
       "        vertical-align: middle;\n",
       "    }\n",
       "\n",
       "    .dataframe tbody tr th {\n",
       "        vertical-align: top;\n",
       "    }\n",
       "\n",
       "    .dataframe thead th {\n",
       "        text-align: right;\n",
       "    }\n",
       "</style>\n",
       "<table border=\"1\" class=\"dataframe\">\n",
       "  <thead>\n",
       "    <tr style=\"text-align: right;\">\n",
       "      <th></th>\n",
       "      <th>Unnamed: 0</th>\n",
       "      <th>text</th>\n",
       "      <th>toxic</th>\n",
       "    </tr>\n",
       "  </thead>\n",
       "  <tbody>\n",
       "    <tr>\n",
       "      <th>0</th>\n",
       "      <td>0</td>\n",
       "      <td>Explanation\\nWhy the edits made under my usern...</td>\n",
       "      <td>0</td>\n",
       "    </tr>\n",
       "    <tr>\n",
       "      <th>1</th>\n",
       "      <td>1</td>\n",
       "      <td>D'aww! He matches this background colour I'm s...</td>\n",
       "      <td>0</td>\n",
       "    </tr>\n",
       "    <tr>\n",
       "      <th>2</th>\n",
       "      <td>2</td>\n",
       "      <td>Hey man, I'm really not trying to edit war. It...</td>\n",
       "      <td>0</td>\n",
       "    </tr>\n",
       "    <tr>\n",
       "      <th>3</th>\n",
       "      <td>3</td>\n",
       "      <td>\"\\nMore\\nI can't make any real suggestions on ...</td>\n",
       "      <td>0</td>\n",
       "    </tr>\n",
       "    <tr>\n",
       "      <th>4</th>\n",
       "      <td>4</td>\n",
       "      <td>You, sir, are my hero. Any chance you remember...</td>\n",
       "      <td>0</td>\n",
       "    </tr>\n",
       "  </tbody>\n",
       "</table>\n",
       "</div>"
      ],
      "text/plain": [
       "   Unnamed: 0                                               text  toxic\n",
       "0           0  Explanation\\nWhy the edits made under my usern...      0\n",
       "1           1  D'aww! He matches this background colour I'm s...      0\n",
       "2           2  Hey man, I'm really not trying to edit war. It...      0\n",
       "3           3  \"\\nMore\\nI can't make any real suggestions on ...      0\n",
       "4           4  You, sir, are my hero. Any chance you remember...      0"
      ]
     },
     "metadata": {},
     "output_type": "display_data"
    },
    {
     "name": "stdout",
     "output_type": "stream",
     "text": [
      "<class 'pandas.core.frame.DataFrame'>\n",
      "RangeIndex: 159292 entries, 0 to 159291\n",
      "Data columns (total 3 columns):\n",
      " #   Column      Non-Null Count   Dtype \n",
      "---  ------      --------------   ----- \n",
      " 0   Unnamed: 0  159292 non-null  int64 \n",
      " 1   text        159292 non-null  object\n",
      " 2   toxic       159292 non-null  int64 \n",
      "dtypes: int64(2), object(1)\n",
      "memory usage: 3.6+ MB\n"
     ]
    },
    {
     "data": {
      "text/plain": [
       "None"
      ]
     },
     "metadata": {},
     "output_type": "display_data"
    }
   ],
   "source": [
    "# Получение общей информации о датафрейме\n",
    "display(toxic_comments.head())\n",
    "display(toxic_comments.info())"
   ]
  },
  {
   "cell_type": "code",
   "execution_count": 5,
   "id": "baee3e8b",
   "metadata": {},
   "outputs": [],
   "source": [
    "# Удалим лишний столбец \n",
    "toxic_comments = toxic_comments.drop('Unnamed: 0', axis=1)"
   ]
  },
  {
   "cell_type": "code",
   "execution_count": 6,
   "id": "ae3993cb",
   "metadata": {},
   "outputs": [],
   "source": [
    "#toxic_comments = toxic_comments.sample(4000)"
   ]
  },
  {
   "cell_type": "code",
   "execution_count": 7,
   "id": "6d1582dd",
   "metadata": {},
   "outputs": [],
   "source": [
    "#toxic_comments['text'] = toxic_comments['text'].astype('U')"
   ]
  },
  {
   "cell_type": "code",
   "execution_count": 8,
   "id": "bbe2a48b",
   "metadata": {},
   "outputs": [],
   "source": [
    "# Вызовем токенизатор текста\n",
    "tokenizer = transformers.BertTokenizer.from_pretrained('bert-base-uncased')"
   ]
  },
  {
   "cell_type": "code",
   "execution_count": 9,
   "id": "4b8cd4b6",
   "metadata": {},
   "outputs": [],
   "source": [
    "# Токенизируем текст\n",
    "# Добавили специальные токены, установили длину в 128 токенов, обрежем и заполним до максимальной длины\n",
    "tokenized = toxic_comments['text'].apply(\n",
    "    lambda x: tokenizer.encode(x, add_special_tokens=True, padding='max_length', truncation=True, max_length=128))"
   ]
  },
  {
   "cell_type": "code",
   "execution_count": 10,
   "id": "56672d0d",
   "metadata": {},
   "outputs": [],
   "source": [
    "# Переведем токенизированный текст вы массив\n",
    "# Создадим маски\n",
    "padded = np.array([i for i in tokenized.values])\n",
    "attention_masks = [[float(i>0) for i in seq] for seq in padded]"
   ]
  },
  {
   "cell_type": "code",
   "execution_count": 11,
   "id": "775a3e38",
   "metadata": {},
   "outputs": [],
   "source": [
    "# Создадим целевой признак\n",
    "labels = toxic_comments['toxic'].values"
   ]
  },
  {
   "cell_type": "code",
   "execution_count": 12,
   "id": "7fd6b7d1",
   "metadata": {},
   "outputs": [],
   "source": [
    "# Разделим данные и маску на трейн, валидацию и тест\n",
    "padded_train, padded_valid, labels_train, labels_valid = train_test_split(padded, labels, \n",
    "                                                                          test_size=.2, random_state=1234)\n",
    "padded_valid, padded_test, labels_valid, labels_test = train_test_split(padded_valid, labels_valid, \n",
    "                                                                        test_size=.5, random_state=1234)\n",
    "\n",
    "masks_train, masks_valid, _, _ = train_test_split(attention_masks, padded, test_size=.2, random_state=1234)\n",
    "masks_valid, masks_test, _, _ = train_test_split(masks_valid, _, test_size=.5, random_state=1234)"
   ]
  },
  {
   "cell_type": "code",
   "execution_count": 13,
   "id": "87e7ba5b",
   "metadata": {
    "scrolled": false
   },
   "outputs": [
    {
     "name": "stdout",
     "output_type": "stream",
     "text": [
      "(127433, 128) (15929, 128) (15930, 128)\n",
      "(127433,) (15929,) (15930,)\n",
      "127433 15929 15930\n"
     ]
    }
   ],
   "source": [
    "# Проверим соотношение выборок\n",
    "print(padded_train.shape, padded_valid.shape, padded_test.shape)\n",
    "print(labels_train.shape, labels_valid.shape, labels_test.shape)\n",
    "print(len(masks_train), len(masks_valid), len(masks_test))"
   ]
  },
  {
   "cell_type": "code",
   "execution_count": 14,
   "id": "aebf4660",
   "metadata": {},
   "outputs": [],
   "source": [
    "# Преобразуем данные в тензоры\n",
    "padded_train = torch.tensor(padded_train)\n",
    "padded_valid = torch.tensor(padded_valid)\n",
    "padded_test = torch.tensor(padded_test)\n",
    "\n",
    "labels_train = torch.tensor(labels_train)\n",
    "labels_valid = torch.tensor(labels_valid)\n",
    "labels_test = torch.tensor(labels_test)\n",
    "\n",
    "masks_train = torch.tensor(masks_train)\n",
    "masks_valid = torch.tensor(masks_valid)\n",
    "masks_test = torch.tensor(masks_test)"
   ]
  },
  {
   "cell_type": "code",
   "execution_count": 15,
   "id": "1126025a",
   "metadata": {},
   "outputs": [],
   "source": [
    "# Установим размер batch_size\n",
    "batch_size = 16\n",
    "\n",
    "# Подготовим данные с помощью DataLoader\n",
    "data_train = TensorDataset(padded_train, masks_train, labels_train)\n",
    "dataloader_train = DataLoader(data_train, sampler=RandomSampler(data_train), batch_size=batch_size)\n",
    "\n",
    "data_valid = TensorDataset(padded_valid, masks_valid, labels_valid)\n",
    "dataloader_valid = DataLoader(data_valid, sampler=SequentialSampler(data_valid), batch_size=batch_size)\n",
    "\n",
    "data_test = TensorDataset(padded_test, masks_test, labels_test)\n",
    "dataloader_test = DataLoader(data_test, sampler=SequentialSampler(data_test), batch_size=batch_size)"
   ]
  },
  {
   "cell_type": "code",
   "execution_count": 16,
   "id": "b72b7f0a",
   "metadata": {
    "scrolled": true
   },
   "outputs": [
    {
     "name": "stderr",
     "output_type": "stream",
     "text": [
      "Some weights of the model checkpoint at bert-base-uncased were not used when initializing BertForSequenceClassification: ['cls.predictions.decoder.weight', 'cls.seq_relationship.weight', 'cls.predictions.transform.LayerNorm.bias', 'cls.seq_relationship.bias', 'cls.predictions.bias', 'cls.predictions.transform.dense.bias', 'cls.predictions.transform.LayerNorm.weight', 'cls.predictions.transform.dense.weight']\n",
      "- This IS expected if you are initializing BertForSequenceClassification from the checkpoint of a model trained on another task or with another architecture (e.g. initializing a BertForSequenceClassification model from a BertForPreTraining model).\n",
      "- This IS NOT expected if you are initializing BertForSequenceClassification from the checkpoint of a model that you expect to be exactly identical (initializing a BertForSequenceClassification model from a BertForSequenceClassification model).\n",
      "Some weights of BertForSequenceClassification were not initialized from the model checkpoint at bert-base-uncased and are newly initialized: ['classifier.bias', 'classifier.weight']\n",
      "You should probably TRAIN this model on a down-stream task to be able to use it for predictions and inference.\n"
     ]
    }
   ],
   "source": [
    "# Вызовем предобученную модель BertForSequenceClassification из модуля transformers\n",
    "model = transformers.BertForSequenceClassification.from_pretrained('bert-base-uncased', return_dict=True)"
   ]
  },
  {
   "cell_type": "code",
   "execution_count": 17,
   "id": "f78febf7",
   "metadata": {},
   "outputs": [
    {
     "data": {
      "text/plain": [
       "BertForSequenceClassification(\n",
       "  (bert): BertModel(\n",
       "    (embeddings): BertEmbeddings(\n",
       "      (word_embeddings): Embedding(30522, 768, padding_idx=0)\n",
       "      (position_embeddings): Embedding(512, 768)\n",
       "      (token_type_embeddings): Embedding(2, 768)\n",
       "      (LayerNorm): LayerNorm((768,), eps=1e-12, elementwise_affine=True)\n",
       "      (dropout): Dropout(p=0.1, inplace=False)\n",
       "    )\n",
       "    (encoder): BertEncoder(\n",
       "      (layer): ModuleList(\n",
       "        (0): BertLayer(\n",
       "          (attention): BertAttention(\n",
       "            (self): BertSelfAttention(\n",
       "              (query): Linear(in_features=768, out_features=768, bias=True)\n",
       "              (key): Linear(in_features=768, out_features=768, bias=True)\n",
       "              (value): Linear(in_features=768, out_features=768, bias=True)\n",
       "              (dropout): Dropout(p=0.1, inplace=False)\n",
       "            )\n",
       "            (output): BertSelfOutput(\n",
       "              (dense): Linear(in_features=768, out_features=768, bias=True)\n",
       "              (LayerNorm): LayerNorm((768,), eps=1e-12, elementwise_affine=True)\n",
       "              (dropout): Dropout(p=0.1, inplace=False)\n",
       "            )\n",
       "          )\n",
       "          (intermediate): BertIntermediate(\n",
       "            (dense): Linear(in_features=768, out_features=3072, bias=True)\n",
       "            (intermediate_act_fn): GELUActivation()\n",
       "          )\n",
       "          (output): BertOutput(\n",
       "            (dense): Linear(in_features=3072, out_features=768, bias=True)\n",
       "            (LayerNorm): LayerNorm((768,), eps=1e-12, elementwise_affine=True)\n",
       "            (dropout): Dropout(p=0.1, inplace=False)\n",
       "          )\n",
       "        )\n",
       "        (1): BertLayer(\n",
       "          (attention): BertAttention(\n",
       "            (self): BertSelfAttention(\n",
       "              (query): Linear(in_features=768, out_features=768, bias=True)\n",
       "              (key): Linear(in_features=768, out_features=768, bias=True)\n",
       "              (value): Linear(in_features=768, out_features=768, bias=True)\n",
       "              (dropout): Dropout(p=0.1, inplace=False)\n",
       "            )\n",
       "            (output): BertSelfOutput(\n",
       "              (dense): Linear(in_features=768, out_features=768, bias=True)\n",
       "              (LayerNorm): LayerNorm((768,), eps=1e-12, elementwise_affine=True)\n",
       "              (dropout): Dropout(p=0.1, inplace=False)\n",
       "            )\n",
       "          )\n",
       "          (intermediate): BertIntermediate(\n",
       "            (dense): Linear(in_features=768, out_features=3072, bias=True)\n",
       "            (intermediate_act_fn): GELUActivation()\n",
       "          )\n",
       "          (output): BertOutput(\n",
       "            (dense): Linear(in_features=3072, out_features=768, bias=True)\n",
       "            (LayerNorm): LayerNorm((768,), eps=1e-12, elementwise_affine=True)\n",
       "            (dropout): Dropout(p=0.1, inplace=False)\n",
       "          )\n",
       "        )\n",
       "        (2): BertLayer(\n",
       "          (attention): BertAttention(\n",
       "            (self): BertSelfAttention(\n",
       "              (query): Linear(in_features=768, out_features=768, bias=True)\n",
       "              (key): Linear(in_features=768, out_features=768, bias=True)\n",
       "              (value): Linear(in_features=768, out_features=768, bias=True)\n",
       "              (dropout): Dropout(p=0.1, inplace=False)\n",
       "            )\n",
       "            (output): BertSelfOutput(\n",
       "              (dense): Linear(in_features=768, out_features=768, bias=True)\n",
       "              (LayerNorm): LayerNorm((768,), eps=1e-12, elementwise_affine=True)\n",
       "              (dropout): Dropout(p=0.1, inplace=False)\n",
       "            )\n",
       "          )\n",
       "          (intermediate): BertIntermediate(\n",
       "            (dense): Linear(in_features=768, out_features=3072, bias=True)\n",
       "            (intermediate_act_fn): GELUActivation()\n",
       "          )\n",
       "          (output): BertOutput(\n",
       "            (dense): Linear(in_features=3072, out_features=768, bias=True)\n",
       "            (LayerNorm): LayerNorm((768,), eps=1e-12, elementwise_affine=True)\n",
       "            (dropout): Dropout(p=0.1, inplace=False)\n",
       "          )\n",
       "        )\n",
       "        (3): BertLayer(\n",
       "          (attention): BertAttention(\n",
       "            (self): BertSelfAttention(\n",
       "              (query): Linear(in_features=768, out_features=768, bias=True)\n",
       "              (key): Linear(in_features=768, out_features=768, bias=True)\n",
       "              (value): Linear(in_features=768, out_features=768, bias=True)\n",
       "              (dropout): Dropout(p=0.1, inplace=False)\n",
       "            )\n",
       "            (output): BertSelfOutput(\n",
       "              (dense): Linear(in_features=768, out_features=768, bias=True)\n",
       "              (LayerNorm): LayerNorm((768,), eps=1e-12, elementwise_affine=True)\n",
       "              (dropout): Dropout(p=0.1, inplace=False)\n",
       "            )\n",
       "          )\n",
       "          (intermediate): BertIntermediate(\n",
       "            (dense): Linear(in_features=768, out_features=3072, bias=True)\n",
       "            (intermediate_act_fn): GELUActivation()\n",
       "          )\n",
       "          (output): BertOutput(\n",
       "            (dense): Linear(in_features=3072, out_features=768, bias=True)\n",
       "            (LayerNorm): LayerNorm((768,), eps=1e-12, elementwise_affine=True)\n",
       "            (dropout): Dropout(p=0.1, inplace=False)\n",
       "          )\n",
       "        )\n",
       "        (4): BertLayer(\n",
       "          (attention): BertAttention(\n",
       "            (self): BertSelfAttention(\n",
       "              (query): Linear(in_features=768, out_features=768, bias=True)\n",
       "              (key): Linear(in_features=768, out_features=768, bias=True)\n",
       "              (value): Linear(in_features=768, out_features=768, bias=True)\n",
       "              (dropout): Dropout(p=0.1, inplace=False)\n",
       "            )\n",
       "            (output): BertSelfOutput(\n",
       "              (dense): Linear(in_features=768, out_features=768, bias=True)\n",
       "              (LayerNorm): LayerNorm((768,), eps=1e-12, elementwise_affine=True)\n",
       "              (dropout): Dropout(p=0.1, inplace=False)\n",
       "            )\n",
       "          )\n",
       "          (intermediate): BertIntermediate(\n",
       "            (dense): Linear(in_features=768, out_features=3072, bias=True)\n",
       "            (intermediate_act_fn): GELUActivation()\n",
       "          )\n",
       "          (output): BertOutput(\n",
       "            (dense): Linear(in_features=3072, out_features=768, bias=True)\n",
       "            (LayerNorm): LayerNorm((768,), eps=1e-12, elementwise_affine=True)\n",
       "            (dropout): Dropout(p=0.1, inplace=False)\n",
       "          )\n",
       "        )\n",
       "        (5): BertLayer(\n",
       "          (attention): BertAttention(\n",
       "            (self): BertSelfAttention(\n",
       "              (query): Linear(in_features=768, out_features=768, bias=True)\n",
       "              (key): Linear(in_features=768, out_features=768, bias=True)\n",
       "              (value): Linear(in_features=768, out_features=768, bias=True)\n",
       "              (dropout): Dropout(p=0.1, inplace=False)\n",
       "            )\n",
       "            (output): BertSelfOutput(\n",
       "              (dense): Linear(in_features=768, out_features=768, bias=True)\n",
       "              (LayerNorm): LayerNorm((768,), eps=1e-12, elementwise_affine=True)\n",
       "              (dropout): Dropout(p=0.1, inplace=False)\n",
       "            )\n",
       "          )\n",
       "          (intermediate): BertIntermediate(\n",
       "            (dense): Linear(in_features=768, out_features=3072, bias=True)\n",
       "            (intermediate_act_fn): GELUActivation()\n",
       "          )\n",
       "          (output): BertOutput(\n",
       "            (dense): Linear(in_features=3072, out_features=768, bias=True)\n",
       "            (LayerNorm): LayerNorm((768,), eps=1e-12, elementwise_affine=True)\n",
       "            (dropout): Dropout(p=0.1, inplace=False)\n",
       "          )\n",
       "        )\n",
       "        (6): BertLayer(\n",
       "          (attention): BertAttention(\n",
       "            (self): BertSelfAttention(\n",
       "              (query): Linear(in_features=768, out_features=768, bias=True)\n",
       "              (key): Linear(in_features=768, out_features=768, bias=True)\n",
       "              (value): Linear(in_features=768, out_features=768, bias=True)\n",
       "              (dropout): Dropout(p=0.1, inplace=False)\n",
       "            )\n",
       "            (output): BertSelfOutput(\n",
       "              (dense): Linear(in_features=768, out_features=768, bias=True)\n",
       "              (LayerNorm): LayerNorm((768,), eps=1e-12, elementwise_affine=True)\n",
       "              (dropout): Dropout(p=0.1, inplace=False)\n",
       "            )\n",
       "          )\n",
       "          (intermediate): BertIntermediate(\n",
       "            (dense): Linear(in_features=768, out_features=3072, bias=True)\n",
       "            (intermediate_act_fn): GELUActivation()\n",
       "          )\n",
       "          (output): BertOutput(\n",
       "            (dense): Linear(in_features=3072, out_features=768, bias=True)\n",
       "            (LayerNorm): LayerNorm((768,), eps=1e-12, elementwise_affine=True)\n",
       "            (dropout): Dropout(p=0.1, inplace=False)\n",
       "          )\n",
       "        )\n",
       "        (7): BertLayer(\n",
       "          (attention): BertAttention(\n",
       "            (self): BertSelfAttention(\n",
       "              (query): Linear(in_features=768, out_features=768, bias=True)\n",
       "              (key): Linear(in_features=768, out_features=768, bias=True)\n",
       "              (value): Linear(in_features=768, out_features=768, bias=True)\n",
       "              (dropout): Dropout(p=0.1, inplace=False)\n",
       "            )\n",
       "            (output): BertSelfOutput(\n",
       "              (dense): Linear(in_features=768, out_features=768, bias=True)\n",
       "              (LayerNorm): LayerNorm((768,), eps=1e-12, elementwise_affine=True)\n",
       "              (dropout): Dropout(p=0.1, inplace=False)\n",
       "            )\n",
       "          )\n",
       "          (intermediate): BertIntermediate(\n",
       "            (dense): Linear(in_features=768, out_features=3072, bias=True)\n",
       "            (intermediate_act_fn): GELUActivation()\n",
       "          )\n",
       "          (output): BertOutput(\n",
       "            (dense): Linear(in_features=3072, out_features=768, bias=True)\n",
       "            (LayerNorm): LayerNorm((768,), eps=1e-12, elementwise_affine=True)\n",
       "            (dropout): Dropout(p=0.1, inplace=False)\n",
       "          )\n",
       "        )\n",
       "        (8): BertLayer(\n",
       "          (attention): BertAttention(\n",
       "            (self): BertSelfAttention(\n",
       "              (query): Linear(in_features=768, out_features=768, bias=True)\n",
       "              (key): Linear(in_features=768, out_features=768, bias=True)\n",
       "              (value): Linear(in_features=768, out_features=768, bias=True)\n",
       "              (dropout): Dropout(p=0.1, inplace=False)\n",
       "            )\n",
       "            (output): BertSelfOutput(\n",
       "              (dense): Linear(in_features=768, out_features=768, bias=True)\n",
       "              (LayerNorm): LayerNorm((768,), eps=1e-12, elementwise_affine=True)\n",
       "              (dropout): Dropout(p=0.1, inplace=False)\n",
       "            )\n",
       "          )\n",
       "          (intermediate): BertIntermediate(\n",
       "            (dense): Linear(in_features=768, out_features=3072, bias=True)\n",
       "            (intermediate_act_fn): GELUActivation()\n",
       "          )\n",
       "          (output): BertOutput(\n",
       "            (dense): Linear(in_features=3072, out_features=768, bias=True)\n",
       "            (LayerNorm): LayerNorm((768,), eps=1e-12, elementwise_affine=True)\n",
       "            (dropout): Dropout(p=0.1, inplace=False)\n",
       "          )\n",
       "        )\n",
       "        (9): BertLayer(\n",
       "          (attention): BertAttention(\n",
       "            (self): BertSelfAttention(\n",
       "              (query): Linear(in_features=768, out_features=768, bias=True)\n",
       "              (key): Linear(in_features=768, out_features=768, bias=True)\n",
       "              (value): Linear(in_features=768, out_features=768, bias=True)\n",
       "              (dropout): Dropout(p=0.1, inplace=False)\n",
       "            )\n",
       "            (output): BertSelfOutput(\n",
       "              (dense): Linear(in_features=768, out_features=768, bias=True)\n",
       "              (LayerNorm): LayerNorm((768,), eps=1e-12, elementwise_affine=True)\n",
       "              (dropout): Dropout(p=0.1, inplace=False)\n",
       "            )\n",
       "          )\n",
       "          (intermediate): BertIntermediate(\n",
       "            (dense): Linear(in_features=768, out_features=3072, bias=True)\n",
       "            (intermediate_act_fn): GELUActivation()\n",
       "          )\n",
       "          (output): BertOutput(\n",
       "            (dense): Linear(in_features=3072, out_features=768, bias=True)\n",
       "            (LayerNorm): LayerNorm((768,), eps=1e-12, elementwise_affine=True)\n",
       "            (dropout): Dropout(p=0.1, inplace=False)\n",
       "          )\n",
       "        )\n",
       "        (10): BertLayer(\n",
       "          (attention): BertAttention(\n",
       "            (self): BertSelfAttention(\n",
       "              (query): Linear(in_features=768, out_features=768, bias=True)\n",
       "              (key): Linear(in_features=768, out_features=768, bias=True)\n",
       "              (value): Linear(in_features=768, out_features=768, bias=True)\n",
       "              (dropout): Dropout(p=0.1, inplace=False)\n",
       "            )\n",
       "            (output): BertSelfOutput(\n",
       "              (dense): Linear(in_features=768, out_features=768, bias=True)\n",
       "              (LayerNorm): LayerNorm((768,), eps=1e-12, elementwise_affine=True)\n",
       "              (dropout): Dropout(p=0.1, inplace=False)\n",
       "            )\n",
       "          )\n",
       "          (intermediate): BertIntermediate(\n",
       "            (dense): Linear(in_features=768, out_features=3072, bias=True)\n",
       "            (intermediate_act_fn): GELUActivation()\n",
       "          )\n",
       "          (output): BertOutput(\n",
       "            (dense): Linear(in_features=3072, out_features=768, bias=True)\n",
       "            (LayerNorm): LayerNorm((768,), eps=1e-12, elementwise_affine=True)\n",
       "            (dropout): Dropout(p=0.1, inplace=False)\n",
       "          )\n",
       "        )\n",
       "        (11): BertLayer(\n",
       "          (attention): BertAttention(\n",
       "            (self): BertSelfAttention(\n",
       "              (query): Linear(in_features=768, out_features=768, bias=True)\n",
       "              (key): Linear(in_features=768, out_features=768, bias=True)\n",
       "              (value): Linear(in_features=768, out_features=768, bias=True)\n",
       "              (dropout): Dropout(p=0.1, inplace=False)\n",
       "            )\n",
       "            (output): BertSelfOutput(\n",
       "              (dense): Linear(in_features=768, out_features=768, bias=True)\n",
       "              (LayerNorm): LayerNorm((768,), eps=1e-12, elementwise_affine=True)\n",
       "              (dropout): Dropout(p=0.1, inplace=False)\n",
       "            )\n",
       "          )\n",
       "          (intermediate): BertIntermediate(\n",
       "            (dense): Linear(in_features=768, out_features=3072, bias=True)\n",
       "            (intermediate_act_fn): GELUActivation()\n",
       "          )\n",
       "          (output): BertOutput(\n",
       "            (dense): Linear(in_features=3072, out_features=768, bias=True)\n",
       "            (LayerNorm): LayerNorm((768,), eps=1e-12, elementwise_affine=True)\n",
       "            (dropout): Dropout(p=0.1, inplace=False)\n",
       "          )\n",
       "        )\n",
       "      )\n",
       "    )\n",
       "    (pooler): BertPooler(\n",
       "      (dense): Linear(in_features=768, out_features=768, bias=True)\n",
       "      (activation): Tanh()\n",
       "    )\n",
       "  )\n",
       "  (dropout): Dropout(p=0.1, inplace=False)\n",
       "  (classifier): Linear(in_features=768, out_features=2, bias=True)\n",
       ")"
      ]
     },
     "execution_count": 17,
     "metadata": {},
     "output_type": "execute_result"
    }
   ],
   "source": [
    "# Передадим модель на GPU\n",
    "model.to(device)"
   ]
  },
  {
   "cell_type": "code",
   "execution_count": 18,
   "id": "3d4e6be7",
   "metadata": {},
   "outputs": [],
   "source": [
    "# Зададим гиперпараметры модели\n",
    "param_optimizer = list(model.named_parameters())\n",
    "no_decay = ['bias', 'gamma', 'beta']\n",
    "optimizer_grouped_parameters = [\n",
    "    {'params': [p for n, p in param_optimizer if not any(nd in n for nd in no_decay)],\n",
    "     'weight_decay_rate': 0.01},\n",
    "    {'params': [p for n, p in param_optimizer if any(nd in n for nd in no_decay)],\n",
    "     'weight_decay_rate': 0.0}\n",
    "]"
   ]
  },
  {
   "cell_type": "code",
   "execution_count": 19,
   "id": "228aa8e4",
   "metadata": {},
   "outputs": [
    {
     "name": "stderr",
     "output_type": "stream",
     "text": [
      "C:\\Users\\taush\\anaconda3\\lib\\site-packages\\transformers\\optimization.py:306: FutureWarning: This implementation of AdamW is deprecated and will be removed in a future version. Use the PyTorch implementation torch.optim.AdamW instead, or set `no_deprecation_warning=True` to disable this warning\n",
      "  warnings.warn(\n"
     ]
    }
   ],
   "source": [
    "# Зададим оптимизатор\n",
    "optimizer = AdamW(optimizer_grouped_parameters, lr=2e-5)"
   ]
  },
  {
   "cell_type": "code",
   "execution_count": 20,
   "id": "3fa1ed6a",
   "metadata": {},
   "outputs": [
    {
     "data": {
      "image/png": "[encoded data removed]",
      "text/plain": [
       "<Figure size 640x480 with 1 Axes>"
      ]
     },
     "metadata": {},
     "output_type": "display_data"
    },
    {
     "name": "stdout",
     "output_type": "stream",
     "text": [
      "Loss на обучающей выборке: 0.02113\n"
     ]
    },
    {
     "name": "stderr",
     "output_type": "stream",
     "text": [
      "Epoch: 100%|██████████| 4/4 [8:24:50<00:00, 7572.53s/it]  "
     ]
    },
    {
     "name": "stdout",
     "output_type": "stream",
     "text": [
      "F-1 на валидационной выборке: 0.8148404993065188\n",
      "Wall time: 8h 24min 50s\n"
     ]
    },
    {
     "name": "stderr",
     "output_type": "stream",
     "text": [
      "\n"
     ]
    }
   ],
   "source": [
    "%%time\n",
    "# Сохраним loss во время обучения и отрисуем график\n",
    "train_loss_set = []\n",
    "\n",
    "# Зададим количество эпох\n",
    "epochs = 4\n",
    "\n",
    "for _ in trange(epochs, desc='Epoch'):\n",
    "    # Переведем модель в режим обучения\n",
    "    model.train()\n",
    "    \n",
    "    train_loss = 0\n",
    "    nb_tr_examples, nb_tr_steps = 0, 0\n",
    "\n",
    "    for step, batch in enumerate(dataloader_train):\n",
    "        # Добавляем batch для вычисления на GPU\n",
    "        batch = tuple(t.to(device) for t in batch)\n",
    "        # Распакуем данные из dataloader\n",
    "        batch_padded, batch_mask, batch_labels = batch\n",
    "    \n",
    "        # Обнуляем градиент\n",
    "        optimizer.zero_grad()\n",
    "        \n",
    "        # Передадим модели данные, маску и labels для вычисления ошибки   \n",
    "        loss = model(batch_padded, token_type_ids=None, attention_mask=batch_mask, labels=batch_labels)\n",
    "    \n",
    "        train_loss_set.append(loss[0].item())\n",
    "        # вычислим градиент     \n",
    "        loss[0].backward()\n",
    "        # Обновляем параметры и делаем шаг оптимизации    \n",
    "        optimizer.step()\n",
    "    \n",
    "        # Обновляем loss\n",
    "        train_loss += loss[0].item()\n",
    "        nb_tr_examples += batch_padded.size(0)\n",
    "        nb_tr_steps += 1\n",
    "    \n",
    "        # Рисуем график\n",
    "        clear_output(True)\n",
    "        plt.plot(train_loss_set)\n",
    "        plt.title('Training loss')\n",
    "        plt.xlabel('Batch')\n",
    "        plt.ylabel('Loss')\n",
    "        plt.show()\n",
    "    \n",
    "    print(f'Loss на обучающей выборке: {train_loss/nb_tr_steps:.5}')\n",
    "    \n",
    "    \n",
    "    # Переводим модель в режим предсказания\n",
    "    model.eval()\n",
    "\n",
    "    valid_preds, valid_labels = [], []\n",
    "\n",
    "    # Оценим данные для одной эпохи\n",
    "    for batch in dataloader_valid:\n",
    "        # Добавляем batch для вычисления на GPU\n",
    "        batch = tuple(t.to(device) for t in batch)\n",
    "        \n",
    "        # Распакуем данные из dataloader\n",
    "        batch_padded, batch_mask, batch_labels = batch\n",
    "        \n",
    "        # Укажем, что градиент не нужен\n",
    "        with torch.no_grad():\n",
    "            # Вычисляем предсказания\n",
    "            logits = model(batch_padded, token_type_ids=None, attention_mask=batch_mask)\n",
    "    \n",
    "        # Перемещаем logits и labels на CPU\n",
    "        logits = logits[0].detach().cpu().numpy()\n",
    "        labels = batch_labels.detach().cpu().numpy()\n",
    "\n",
    "        batch_preds = np.argmax(logits, axis=1)\n",
    "        # Объединим labels\n",
    "        batch_labels = np.concatenate([labels], axis=0)\n",
    "        # Добавим batch_preds в valid_preds, batch_labels в valid_labels\n",
    "        valid_preds.extend(batch_preds)\n",
    "        valid_labels.extend(batch_labels)\n",
    "        \n",
    "    print('F-1 на валидационной выборке:', f1_score(valid_labels, valid_preds))"
   ]
  },
  {
   "cell_type": "markdown",
   "id": "763eecd6",
   "metadata": {},
   "source": [
    "Обучив модель на обучающей выборке и получив предсказания на валидационной выборке (10%), с 4 эпохахами, мы получили значение F1 - 0.814. Проведем тестирование модели на отложенных данных."
   ]
  },
  {
   "cell_type": "markdown",
   "id": "d7100b32",
   "metadata": {},
   "source": [
    "### Тестирование модели"
   ]
  },
  {
   "cell_type": "markdown",
   "id": "e8e7c9c2",
   "metadata": {},
   "source": [
    "Токенизируем текст тестовой выборки, создадим педдинги и маску. Сделаем предсказание моделью BertForSequenceClassification на тестовой выборке, расчитаем значение F1."
   ]
  },
  {
   "cell_type": "code",
   "execution_count": 21,
   "id": "88bfcb6c",
   "metadata": {
    "scrolled": false
   },
   "outputs": [
    {
     "name": "stdout",
     "output_type": "stream",
     "text": [
      "F-1 на тестовой выборке: 0.8362097036795831\n"
     ]
    }
   ],
   "source": [
    "model.eval()\n",
    "test_preds, test_labels = [], []\n",
    "    \n",
    "for batch in dataloader_test:\n",
    "    batch = tuple(t.to(device) for t in batch)\n",
    "    batch_padded, batch_mask, batch_labels = batch\n",
    "    with torch.no_grad():\n",
    "        logits = model(batch_padded, token_type_ids=None, attention_mask=batch_mask)\n",
    "    logits = logits[0].detach().cpu().numpy()\n",
    "    labels = batch_labels.detach().cpu().numpy()\n",
    "    batch_preds = np.argmax(logits, axis=1)\n",
    "    batch_labels = np.concatenate([labels], axis=0)\n",
    "    test_preds.extend(batch_preds)\n",
    "    test_labels.extend(batch_labels)      \n",
    "    \n",
    "print('F-1 на тестовой выборке:', f1_score(test_labels, test_preds))"
   ]
  },
  {
   "cell_type": "markdown",
   "id": "21ea2405",
   "metadata": {},
   "source": [
    "Значение F1-меры на тестовых данных составляет 0.836. Разрабочиками модели рекомендуется количество эпох устанавливать от 2 до 4."
   ]
  },
  {
   "cell_type": "code",
   "execution_count": 22,
   "id": "171d6024",
   "metadata": {},
   "outputs": [
    {
     "data": {
      "image/png": "[encoded data removed]",
      "text/plain": [
       "<Figure size 640x480 with 2 Axes>"
      ]
     },
     "metadata": {},
     "output_type": "display_data"
    }
   ],
   "source": [
    "# Посмотрим на матрицу ошибок\n",
    "matrix = confusion_matrix(test_labels, test_preds)\n",
    "cm_display = ConfusionMatrixDisplay(matrix).plot()"
   ]
  },
  {
   "cell_type": "markdown",
   "id": "a51f6c78",
   "metadata": {},
   "source": [
    "Модель BertForSequenceClassification отлично справляется с задачей классификации токсичности англоязычных комментариев. Модель  на тестовых данных размером 15930 англоязычных комментариев предсказала целевой признак с точностью 96%, значение F1-меры - 0.836, что соответствует условиям заказчика. При этом модель допустила ошибки: ошибка первого роды FP - 155, ошибка второго рода FN - 348. "
   ]
  }
 ],
 "metadata": {
  "kernelspec": {
   "display_name": "Python 3 (ipykernel)",
   "language": "python",
   "name": "python3"
  },
  "language_info": {
   "codemirror_mode": {
    "name": "ipython",
    "version": 3
   },
   "file_extension": ".py",
   "mimetype": "text/x-python",
   "name": "python",
   "nbconvert_exporter": "python",
   "pygments_lexer": "ipython3",
   "version": "3.9.7"
  },
  "toc": {
   "base_numbering": 1,
   "nav_menu": {},
   "number_sections": true,
   "sideBar": true,
   "skip_h1_title": true,
   "title_cell": "Table of Contents",
   "title_sidebar": "Contents",
   "toc_cell": false,
   "toc_position": {},
   "toc_section_display": true,
   "toc_window_display": false
  }
 },
 "nbformat": 4,
 "nbformat_minor": 5
}
